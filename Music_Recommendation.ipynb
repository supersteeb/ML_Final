{
 "cells": [
  {
   "cell_type": "code",
   "execution_count": 2,
   "metadata": {},
   "outputs": [],
   "source": [
    "import numpy as np\n",
    "import pandas as pd\n",
    "from sklearn.metrics import jaccard_similarity_score\n",
    "from sklearn.preprocessing import MultiLabelBinarizer\n",
    "import pprint\n",
    "pp = pprint.PrettyPrinter(indent=4)\n",
    "from collections import namedtuple\n",
    "\n",
    "from sklearn.feature_extraction.text import CountVectorizer\n",
    "from sklearn.metrics import jaccard_similarity_score\n",
    "\n",
    "Song = namedtuple(\"Song\", [\"artist\", \"title\"])\n",
    "Mood = namedtuple(\"Mood\", [\"description\", \"probability\"])"
   ]
  },
  {
   "cell_type": "markdown",
   "metadata": {},
   "source": [
    "## Load Models"
   ]
  },
  {
   "cell_type": "code",
   "execution_count": 3,
   "metadata": {},
   "outputs": [],
   "source": [
    "import pickle\n",
    "\n",
    "trained_af_genre = pickle.load(open('predict_genre_af_AllGenres.pickle', 'rb'))\n",
    "trained_af_moods = pickle.load(open('predict_mood_audio.pickle', 'rb'))\n",
    "trained_lyrics_mood = pickle.load(open('trained_lyrics_tfidf.pickle', 'rb'))\n",
    "database = pd.read_json('songs_have_lyrics.json')"
   ]
  },
  {
   "cell_type": "code",
   "execution_count": 4,
   "metadata": {},
   "outputs": [],
   "source": [
    "from string import punctuation\n",
    "from sklearn.feature_extraction.stop_words import ENGLISH_STOP_WORDS\n",
    "from nltk.stem.snowball import SnowballStemmer\n",
    "\n",
    "translator = str.maketrans('', '', punctuation)\n",
    "stemmer = SnowballStemmer('english')\n",
    "\n",
    "def clean_text(raw_text):\n",
    "#   initialize empty clean_words list\n",
    "    clean_words = []\n",
    "    raw_text = raw_text.translate(translator)\n",
    "    raw_text_split = raw_text.split()\n",
    "\n",
    "    for word in raw_text_split:\n",
    "        if word not in ENGLISH_STOP_WORDS:\n",
    "            clean_words.append(stemmer.stem(word))\n",
    "    return ' '.join(clean_words)"
   ]
  },
  {
   "cell_type": "code",
   "execution_count": 5,
   "metadata": {},
   "outputs": [],
   "source": [
    "#test song\n",
    "\n",
    "audio_features = np.array([5,\n",
    " 0.709932,\n",
    " 0.231455,\n",
    " 130.03,\n",
    " 0.12174099999999999,\n",
    " 0.036662,\n",
    " 0.0,\n",
    " 0,\n",
    " 4,\n",
    " 232.46104,\n",
    " -5.15,\n",
    " 0.37439000000000006,\n",
    " 0.7047289999999999,\n",
    " 0.5650000000000001,\n",
    " 0.5650000000000001,\n",
    " 0.743,\n",
    " 1.0])\n",
    "lyrics_features = 'party rock yeah woo let s go party rock is in the house tonight everybody just have a good time and we gon make you loose your mind wooo everybody just have a good time party rock is in the house tonight ooww everybody just have a good time and we gon make you loose your mind yeah we just wanna see you shake that in the club party rock look a pretty girl she on my jock huh non stop when we in the spot booty on the way like she on the block wooo with a drink i gots to know tight jeans tattoos cause i m rock n roll half black half white domino gain the money out the door yoo i m runnin through these hoes like drano i got that devilish flow rock n roll no halo we party rock yeah that s the crew that i m reppin on the rise to the stop no led in our zeppelin heeeey party rock is in the house tonight wooo everybody just have a good time hey and we gon make you loose your mind everybody just have a good time let s go party rock is in the house tonight everybody just have a good time and we gon make you loose your mind we just wanna see you shake that everyday i m shuffling shuffling shuffling step up fast be the first girl to make me throw this cash we gettin money don t be mad now stop hating is bad one more shot for us another round another round please fill up my cup don t mess around bitches wanna see you shake it now now you wanna be you re naked now get up get down put your hands up to the sound get up get down put your hands up to the sound get up get down put your hands up to the sound put your hands up to the sound put your hands up to the sound get up get up get up get up get up get up get up get up get up put your hands up to the sound to the sound put your hands up put your hands up put your hands up put your hands up party rock is in the house tonight put your hands up everybody just have a good time put your hands up and we gon make you loose your mind put your hands up everybody just have a good good good time ooohh ooooh put your hands up ooohh ooooh ooh ooh ooohh ooooh put your hands up ooohh ooooh put your hands up shake that everyday i m shu ff ffling put your put your put your put your yeaah put your put your wooo put your put your your hands up put your hands up put your hands up everyday i m shuffling'"
   ]
  },
  {
   "cell_type": "code",
   "execution_count": 6,
   "metadata": {},
   "outputs": [
    {
     "data": {
      "text/plain": [
       "array([[ 5.0000000e+00,  7.0993200e-01,  2.3145500e-01,  1.3003000e+02,\n",
       "         1.2174100e-01,  3.6662000e-02,  0.0000000e+00,  0.0000000e+00,\n",
       "         4.0000000e+00,  2.3246104e+02, -5.1500000e+00,  3.7439000e-01,\n",
       "         7.0472900e-01,  5.6500000e-01,  5.6500000e-01,  7.4300000e-01,\n",
       "         1.0000000e+00]])"
      ]
     },
     "execution_count": 6,
     "metadata": {},
     "output_type": "execute_result"
    }
   ],
   "source": [
    "mlb = MultiLabelBinarizer()\n",
    "y = mlb.fit_transform(database['moods'])\n",
    "cleaned_lyrics = clean_text(lyrics_features)\n",
    "moods = trained_lyrics_mood.predict([cleaned_lyrics])\n",
    "\n",
    "audio_features.reshape((1, -1))"
   ]
  },
  {
   "cell_type": "code",
   "execution_count": 7,
   "metadata": {},
   "outputs": [
    {
     "data": {
      "text/plain": [
       "[('celebratory', 'happy', 'rowdy')]"
      ]
     },
     "execution_count": 7,
     "metadata": {},
     "output_type": "execute_result"
    }
   ],
   "source": [
    "mlb.inverse_transform(moods)"
   ]
  },
  {
   "cell_type": "code",
   "execution_count": 55,
   "metadata": {},
   "outputs": [],
   "source": [
    "def recommend_similar_songs(audio_features, lyrics_features):\n",
    "    cleaned_lyrics = clean_text(lyrics_features)\n",
    "    predicted_genre = trained_af_genre.predict(audio_features.reshape((1, -1)))\n",
    "    #predicted_moods_AF = trained_af_moods.predict(audio_features.reshape((1, -1)))\n",
    "    predicted_moods = trained_lyrics.predict([cleaned_lyrics])\n",
    "    \n",
    "    # need to compare predicted moods AF and predicted moods on lyrics\n",
    "    \n",
    "    # find top 3 moods\n",
    "    \n",
    "    # return \n",
    "#{   'genre': 'Jazz',\n",
    " #   'mood': [   Mood(description='Happy', probability=0.75),\n",
    "  #              Mood(description='Energetic', probability=0.71),\n",
    "   #             Mood(description='Celebratory', probability=0.68)],\n",
    "    #'playlist': [   Song(artist='kanye west', title='i am a god'),\n",
    "     #               Song(artist='linkin park', title='crawling')]}\n",
    "    "
   ]
  },
  {
   "cell_type": "code",
   "execution_count": null,
   "metadata": {},
   "outputs": [],
   "source": []
  },
  {
   "cell_type": "code",
   "execution_count": null,
   "metadata": {},
   "outputs": [],
   "source": []
  },
  {
   "cell_type": "code",
   "execution_count": null,
   "metadata": {},
   "outputs": [],
   "source": []
  }
 ],
 "metadata": {
  "kernelspec": {
   "display_name": "Python 3",
   "language": "python",
   "name": "python3"
  },
  "language_info": {
   "codemirror_mode": {
    "name": "ipython",
    "version": 3
   },
   "file_extension": ".py",
   "mimetype": "text/x-python",
   "name": "python",
   "nbconvert_exporter": "python",
   "pygments_lexer": "ipython3",
   "version": "3.6.4"
  }
 },
 "nbformat": 4,
 "nbformat_minor": 2
}
